{
  "nbformat": 4,
  "nbformat_minor": 0,
  "metadata": {
    "colab": {
      "provenance": []
    },
    "kernelspec": {
      "name": "python3",
      "display_name": "Python 3"
    },
    "language_info": {
      "name": "python"
    }
  },
  "cells": [
    {
      "cell_type": "code",
      "source": [
        "<!DOCTYPE html>\n",
        "<html lang=\"en\">\n",
        "<head>\n",
        "    <meta charset=\"UTF-8\">\n",
        "    <title>Prediction</title>\n",
        "    <link rel stylesheet=\"style/css\" src=\"style.css\">\n",
        "</head>\n",
        "\n",
        "<style>\n",
        "    body{\n",
        "     \n",
        "     background-repeat: no-repeat;\n",
        "     background-size: cover;\n",
        "    }\n",
        "\n",
        "    #rectangle{\n",
        "     width:400px;\n",
        "     height:150px;\n",
        "     background-color: #5796a5;\n",
        "     border-radius: 25px;\n",
        "     position:absolute;\n",
        "     top:25%;\n",
        "     left:50%;\n",
        "     transform:translate(-50%,-50%);\n",
        "    }\n",
        "\n",
        "    #ans{\n",
        "  text-align: center;\n",
        "  font-size: 40px;\n",
        "  margin: 0 auto;\n",
        "  padding: 3% 5%;\n",
        "  padding-top: 15%;\n",
        "  color: white;\n",
        "    }\n",
        "\n",
        "</style>\n",
        "<body>\n",
        "    <div id=\"rectangle\">\n",
        "        <h1 id=\"ans\">Predicted Number : {{num}}</h1>\n",
        "    </div>\n",
        "</body>\n",
        "</html>"
      ],
      "metadata": {
        "id": "25VcDv-fL6_2"
      },
      "execution_count": null,
      "outputs": []
    }
  ]
}