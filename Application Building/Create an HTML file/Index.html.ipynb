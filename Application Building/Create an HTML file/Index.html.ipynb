{
  "nbformat": 4,
  "nbformat_minor": 0,
  "metadata": {
    "colab": {
      "provenance": []
    },
    "kernelspec": {
      "name": "python3",
      "display_name": "Python 3"
    },
    "language_info": {
      "name": "python"
    }
  },
  "cells": [
    {
      "cell_type": "code",
      "source": [
        "<html>\n",
        "\n",
        "<head>\n",
        "  <title>Digit Recognition WebApp</title>\n",
        "\n",
        "  <meta name=\"viewport\" content=\"width=device-width\">\n",
        "  <!-- GoogleFont -->\n",
        "  <link href=\"https://fonts.googleapis.com/css2?family=Prompt:wght@600&display=swap\" rel=\"stylesheet\">\n",
        "  <link href=\"https://fonts.googleapis.com/css2?family=Varela+Round&display=swap\" rel=\"stylesheet\">\n",
        "  <link href=\"https://fonts.googleapis.com/css2?family=Source+Code+Pro:wght@500&display=swap\" rel=\"stylesheet\">\n",
        "  <link href=\"https://fonts.googleapis.com/css?family=Calistoga|Josefin+Sans:400,700|Pacifico&display=swap\" rel=\"stylesheet\">\n",
        "  <!-- bootstrap -->\n",
        "  <link rel=\"stylesheet\" href=\"https://stackpath.bootstrapcdn.com/bootstrap/4.3.1/css/bootstrap.min.css\" integrity=\"sha384-ggOyR0iXCbMQv3Xipma34MD+dH/1fQ784/j6cY/iJTQUOhcWr7x9JvoRxT2MZw1T\" crossorigin=\"anonymous\">\n",
        "  <link rel=\"stylesheet\" type= \"text/css\" href= \"style.css\">\n",
        "  <!-- fontawesome -->\n",
        "  <script src=\"https://kit.fontawesome.com/b3aed9cb07.js\" crossorigin=\"anonymous\"></script>\n",
        "\n",
        "  <script src=\"https://code.jquery.com/jquery-3.3.1.slim.min.js\" integrity=\"sha384-q8i/X+965DzO0rT7abK41JStQIAqVgRVzpbzo5smXKp4YfRvH+8abtTE1Pi6jizo\" crossorigin=\"anonymous\"></script>\n",
        "  <script src=\"https://cdnjs.cloudflare.com/ajax/libs/popper.js/1.14.7/umd/popper.min.js\" integrity=\"sha384-UO2eT0CpHqdSJQ6hJty5KVphtPhzWj9WO1clHTMGa3JDZwrnQq4sF86dIHNDz0W1\" crossorigin=\"anonymous\"></script>\n",
        "  <script src=\"https://stackpath.bootstrapcdn.com/bootstrap/4.3.1/js/bootstrap.min.js\" integrity=\"sha384-JjSmVgyd0p3pXB1rRibZUAYoIIy6OrQ6VrjIEaFf/nJGzIxFDsf4x0xIM+B07jRM\" crossorigin=\"anonymous\"></script>\n",
        "  <script src=\"https://cdn.jsdelivr.net/npm/@tensorflow/tfjs@latest\"></script>\n",
        "\n",
        "</head>\n",
        "\n",
        "<script>\n",
        "  function preview() {\n",
        "    frame.src=URL.createObjectURL(event.target.files[0]);\n",
        "}\n",
        "\n",
        "    $(document).ready(function() {\n",
        "          $('#clear_button').on('click', function() {\n",
        "              $('#image').val('');\n",
        "              $('#frame').attr('src',\"\");\n",
        "            });\n",
        "        });\n",
        "\n",
        "</script>\n",
        "\n",
        "<body>\n",
        "\n",
        "  <h1 class=\"welcome\">IBM PROJECT\n",
        "  </h1>\n",
        "  <section id=\"title\">\n",
        "    <h4 class=\"heading\">Handwritten Digit Recognition </h4>\n",
        "    <br><br>\n",
        "      <p><h2>\n",
        "        The website is designed to predict the handwritten digit.</h2>\n",
        "      </p>\n",
        "   \n",
        "\n",
        "  </section>\n",
        "\n",
        "  <section id=\"content\">\n",
        "\n",
        "        <div class=\"leftside\">\n",
        "        <form action=\"/predict\" method=\"POST\" enctype=\"multipart/form-data\">\n",
        "        <label>Select a image:</label>\n",
        "        <input id=\"image\" type=\"file\" name=\"image\" accept=\"image/png, image/jpeg\" onchange=\"preview()\"><br><br>\n",
        "          <img id=\"frame\" src=\"\" width=\"100px\" height=\"100px\"/>\n",
        "          <div class=\"buttons_div\">\n",
        "            <button type=\"submit\" class=\"btn btn-dark\" id=\"predict_button\" onclick=\"predict.html\">Predict</button>\n",
        "            <button type=\"button\" class=\"btn btn-dark\" id=\"clear_button\">&nbsp Clear &nbsp</button>\n",
        "          </div>\n",
        "        </form>\n",
        "        </div>\n",
        "  </section>\n",
        "\n",
        "</body>\n",
        "\n",
        "</html>"
      ],
      "metadata": {
        "id": "6PzxYrzGqt5b"
      },
      "execution_count": null,
      "outputs": []
    },
    {
      "cell_type": "code",
      "source": [],
      "metadata": {
        "id": "jmflKW7WtpIc"
      },
      "execution_count": null,
      "outputs": []
    }
  ]
}